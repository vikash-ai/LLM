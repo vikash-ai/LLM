{
 "cells": [
  {
   "cell_type": "code",
   "execution_count": null,
   "metadata": {},
   "outputs": [],
   "source": [
    "from typing_extensions import Literal\n",
    "from langchain_core.tools import tool\n",
    "from langchain_groq import ChatGroq\n",
    "from langgraph.graph import MessagesState, StateGraph,START,END\n",
    "from langgraph.types import Command\n",
    "from dotenv import load_dotenv\n",
    "from IPython.display import Image, display\n",
    "from langchain_openai import ChatOpenAI\n",
    "from langchain_core.messages import BaseMessage, HumanMessage\n",
    "from langgraph.prebuilt import create_react_agent\n",
    "from typing import Annotated\n",
    "from langchain_experimental.utilities import PythonREPL\n",
    "from langchain_community.tools import DuckDuckGoSearchRun"
   ]
  },
  {
   "cell_type": "code",
   "execution_count": 22,
   "metadata": {},
   "outputs": [],
   "source": [
    "load_dotenv()\n",
    "openai_model=ChatOpenAI(model=\"gpt-4\")"
   ]
  },
  {
   "cell_type": "code",
   "execution_count": 23,
   "metadata": {},
   "outputs": [
    {
     "data": {
      "text/plain": [
       "AIMessage(content='Hello! How can I assist you today?', additional_kwargs={'refusal': None}, response_metadata={'token_usage': {'completion_tokens': 10, 'prompt_tokens': 8, 'total_tokens': 18, 'completion_tokens_details': {'accepted_prediction_tokens': 0, 'audio_tokens': 0, 'reasoning_tokens': 0, 'rejected_prediction_tokens': 0}, 'prompt_tokens_details': {'audio_tokens': 0, 'cached_tokens': 0}}, 'model_name': 'gpt-4-0613', 'system_fingerprint': None, 'id': 'chatcmpl-BDWoaBM5gEg6V54yNz7qWllXrz1eS', 'finish_reason': 'stop', 'logprobs': None}, id='run-e9a1070a-67de-4bb8-b784-85fa6ddc61d4-0', usage_metadata={'input_tokens': 8, 'output_tokens': 10, 'total_tokens': 18, 'input_token_details': {'audio': 0, 'cache_read': 0}, 'output_token_details': {'audio': 0, 'reasoning': 0}})"
      ]
     },
     "execution_count": 23,
     "metadata": {},
     "output_type": "execute_result"
    }
   ],
   "source": [
    "openai_model.invoke(\"hi\")"
   ]
  },
  {
   "cell_type": "code",
   "execution_count": 3,
   "metadata": {},
   "outputs": [],
   "source": [
    "search_tool=DuckDuckGoSearchRun()"
   ]
  },
  {
   "cell_type": "code",
   "execution_count": 4,
   "metadata": {},
   "outputs": [
    {
     "data": {
      "text/plain": [
       "\"India is a front-runner among developing economies. Find out how India calculates its GDP, an indicator of economic health and performance. India is now the fifth-largest economy in the world GDP rankings list due to its strong economic foundations, thriving domestic demand, careful financial management, high saving rates and ... The latest data-driven analysis underscores the strength of domestic fundamentals amidst a volatile global backdrop. While global economic uncertainties persist, India's economy shows strong growth, supported by robust consumption and government spending. Inflation has moderated, and policy measures have helped stabilize market liquidity. GDP Calculation in India Since 2015. Changes in GDP Calculation Methodology in India since 2015 for National Income: Change of Base Year. The base year for GDP calculation was changed from 2004-2005 to 2011-2012, following the recommendation of the National Statistical Commission. There is now consideration to change the base year again to 2017-18. India is one of the fastest-growing economies in the world. Agriculture was once India's main source of revenue and income but it fell to approximately 16.7% of the country's GDP by 2022.\""
      ]
     },
     "execution_count": 4,
     "metadata": {},
     "output_type": "execute_result"
    }
   ],
   "source": [
    "search_tool.invoke(\"what is a gdp of india?\")"
   ]
  },
  {
   "cell_type": "code",
   "execution_count": 5,
   "metadata": {},
   "outputs": [],
   "source": [
    "repl=PythonREPL()"
   ]
  },
  {
   "cell_type": "code",
   "execution_count": 6,
   "metadata": {},
   "outputs": [],
   "source": [
    "code = \"\"\"\n",
    "x = 5\n",
    "y = x * 2\n",
    "print(y)\n",
    "\"\"\""
   ]
  },
  {
   "cell_type": "code",
   "execution_count": 8,
   "metadata": {},
   "outputs": [
    {
     "name": "stderr",
     "output_type": "stream",
     "text": [
      "Python REPL can execute arbitrary code. Use with caution.\n"
     ]
    },
    {
     "data": {
      "text/plain": [
       "'10\\n'"
      ]
     },
     "execution_count": 8,
     "metadata": {},
     "output_type": "execute_result"
    }
   ],
   "source": [
    "repl.run(code)"
   ]
  },
  {
   "cell_type": "code",
   "execution_count": 9,
   "metadata": {},
   "outputs": [],
   "source": [
    "@tool\n",
    "def python_repl_tool(\n",
    "    code: Annotated[str, \"The python code to execute to generate your chart.\"],\n",
    "):\n",
    "    \"\"\"Use this to execute python code. If you want to see the output of a value,\n",
    "    you should print it out with `print(...)`. This is visible to the user.\"\"\"\n",
    "    \n",
    "    try:\n",
    "        result = repl.run(code)\n",
    "    except BaseException as e:\n",
    "        return f\"Failed to execute. Error: {repr(e)}\"\n",
    "    \n",
    "    result_str = f\"Successfully executed:\\n\\`\\`\\`python\\n{code}\\n\\`\\`\\`\\nStdout: {result}\"\n",
    "    return (\n",
    "        result_str + \"\\n\\nIf you have completed all tasks, respond with FINAL ANSWER.\"\n",
    "    )"
   ]
  },
  {
   "cell_type": "code",
   "execution_count": 11,
   "metadata": {},
   "outputs": [],
   "source": [
    "def make_system_prompt(instruction:str)->str:\n",
    "    return  (\n",
    "        \"You are a helpful AI assistant, collaborating with other assistants.\"\n",
    "        \" Use the provided tools to progress towards answering the question.\"\n",
    "        \" If you are unable to fully answer, that's OK, another assistant with different tools \"\n",
    "        \" will help where you left off. Execute what you can to make progress.\"\n",
    "        \" If you or any of the other assistants have the final answer or deliverable,\"\n",
    "        \" prefix your response with FINAL ANSWER so the team knows to stop.\"\n",
    "        f\"\\n{instruction}\"\n",
    "    )"
   ]
  },
  {
   "cell_type": "code",
   "execution_count": 21,
   "metadata": {},
   "outputs": [
    {
     "data": {
      "text/plain": [
       "\"You are a helpful AI assistant, collaborating with other assistants. Use the provided tools to progress towards answering the question. If you are unable to fully answer, that's OK, another assistant with different tools  will help where you left off. Execute what you can to make progress. If you or any of the other assistants have the final answer or deliverable, prefix your response with FINAL ANSWER so the team knows to stop.\\nYou can only do research. You are working with a chart generator colleague.\""
      ]
     },
     "execution_count": 21,
     "metadata": {},
     "output_type": "execute_result"
    }
   ],
   "source": [
    "make_system_prompt(\n",
    "        \"You can only do research. You are working with a chart generator colleague.\"\n",
    "    )"
   ]
  },
  {
   "cell_type": "code",
   "execution_count": null,
   "metadata": {},
   "outputs": [],
   "source": [
    "\"You are a helpful AI assistant, collaborating with other assistants. Use the provided tools to progress towards answering the question. If you are unable to fully answer, that's OK, another assistant with different tools  will help where you left off. Execute what you can to make progress. If you or any of the other assistants have the final answer or deliverable, prefix your response with FINAL ANSWER so the team knows to stop.\\nYou can only do research. You are working with a chart generator colleague.\""
   ]
  },
  {
   "cell_type": "code",
   "execution_count": 12,
   "metadata": {},
   "outputs": [],
   "source": [
    "def get_next_node(last_message:BaseMessage, goto:str):\n",
    "    if \"FINAL ANSWER\" in last_message.content:\n",
    "        # Any agent decided the work is done\n",
    "        return END\n",
    "    return goto"
   ]
  },
  {
   "cell_type": "code",
   "execution_count": 24,
   "metadata": {},
   "outputs": [],
   "source": [
    "research_agent = create_react_agent(\n",
    "    openai_model,\n",
    "    tools=[search_tool],\n",
    "    prompt=make_system_prompt(\n",
    "        \"You can only do research. You are working with a chart generator colleague.\"\n",
    "    ),\n",
    ")"
   ]
  },
  {
   "cell_type": "code",
   "execution_count": 25,
   "metadata": {},
   "outputs": [],
   "source": [
    "chart_agent = create_react_agent(\n",
    "    openai_model,\n",
    "    [python_repl_tool],\n",
    "    prompt=make_system_prompt(\n",
    "        \"You can only generate charts. You are working with a researcher colleague.\"\n",
    "    ),\n",
    ")"
   ]
  },
  {
   "cell_type": "code",
   "execution_count": 29,
   "metadata": {},
   "outputs": [],
   "source": [
    "state={\"message\":[\"hi\",\"hello\"]}"
   ]
  },
  {
   "cell_type": "code",
   "execution_count": 30,
   "metadata": {},
   "outputs": [
    {
     "data": {
      "text/plain": [
       "'hello'"
      ]
     },
     "execution_count": 30,
     "metadata": {},
     "output_type": "execute_result"
    }
   ],
   "source": [
    "state[\"message\"][-1]"
   ]
  },
  {
   "cell_type": "code",
   "execution_count": 31,
   "metadata": {},
   "outputs": [],
   "source": [
    "def research_node(state:MessagesState)->Command[Literal[\"chart_generator\", END]]:\n",
    "    \n",
    "    result = research_agent.invoke(state)\n",
    "    \n",
    "    goto = get_next_node(result[\"messages\"][-1], \"chart_generator\")\n",
    "    \n",
    "    result[\"messages\"][-1] = HumanMessage(content=result[\"messages\"][-1].content, name=\"researcher\")\n",
    "    \n",
    "    return Command(update={\"messages\": result[\"messages\"]},goto=goto)"
   ]
  },
  {
   "cell_type": "code",
   "execution_count": 32,
   "metadata": {},
   "outputs": [],
   "source": [
    "def chart_node(state:MessagesState)-> Command[Literal[\"researcher\", END]]:\n",
    "    \n",
    "    result = chart_agent.invoke(state)\n",
    "    \n",
    "    goto = get_next_node(result[\"messages\"][-1], \"researcher\")\n",
    "    \n",
    "    result[\"messages\"][-1] = HumanMessage(content=result[\"messages\"][-1].content, name=\"chart_generator\")\n",
    "    \n",
    "    return Command(update={\"messages\": result[\"messages\"]},goto=goto)"
   ]
  },
  {
   "cell_type": "code",
   "execution_count": 33,
   "metadata": {},
   "outputs": [],
   "source": [
    "from langgraph.graph import StateGraph, START\n",
    "\n",
    "workflow = StateGraph(MessagesState)\n",
    "workflow.add_node(\"researcher\", research_node)\n",
    "workflow.add_node(\"chart_generator\", chart_node)\n",
    "\n",
    "workflow.add_edge(START, \"researcher\")\n",
    "app = workflow.compile()"
   ]
  },
  {
   "cell_type": "code",
   "execution_count": 34,
   "metadata": {},
   "outputs": [
    {
     "data": {
      "image/png": "[encoded data removed]",
      "text/plain": [
       "<IPython.core.display.Image object>"
      ]
     },
     "metadata": {},
     "output_type": "display_data"
    }
   ],
   "source": [
    "display(Image(app.get_graph().draw_mermaid_png()))"
   ]
  },
  {
   "cell_type": "code",
   "execution_count": 35,
   "metadata": {},
   "outputs": [
    {
     "data": {
      "image/png": "[encoded data removed]",
      "text/plain": [
       "<Figure size 640x480 with 1 Axes>"
      ]
     },
     "metadata": {},
     "output_type": "display_data"
    },
    {
     "data": {
      "text/plain": [
       "{'messages': [HumanMessage(content=\"get the UK's GDP over the past 3 years, then make a line chart of it.Once you make the chart, finish.\", additional_kwargs={}, response_metadata={}, id='019b6e66-774e-4d95-9e50-09abdfafc0a9'),\n",
       "  AIMessage(content='', additional_kwargs={'tool_calls': [{'id': 'call_4Ju8sqNadf8dqLLQq7U6cVgS', 'function': {'arguments': '{\\n  \"query\": \"UK\\'s GDP over the past 3 years\"\\n}', 'name': 'duckduckgo_search'}, 'type': 'function'}], 'refusal': None}, response_metadata={'token_usage': {'completion_tokens': 27, 'prompt_tokens': 204, 'total_tokens': 231, 'completion_tokens_details': {'accepted_prediction_tokens': 0, 'audio_tokens': 0, 'reasoning_tokens': 0, 'rejected_prediction_tokens': 0}, 'prompt_tokens_details': {'audio_tokens': 0, 'cached_tokens': 0}}, 'model_name': 'gpt-4-0613', 'system_fingerprint': None, 'id': 'chatcmpl-BDWtCq9rbBkAALKEaeKg73LUjlJEd', 'finish_reason': 'tool_calls', 'logprobs': None}, id='run-b7d63a79-c1a5-4ef8-8c39-181c860bb1be-0', tool_calls=[{'name': 'duckduckgo_search', 'args': {'query': \"UK's GDP over the past 3 years\"}, 'id': 'call_4Ju8sqNadf8dqLLQq7U6cVgS', 'type': 'tool_call'}], usage_metadata={'input_tokens': 204, 'output_tokens': 27, 'total_tokens': 231, 'input_token_details': {'audio': 0, 'cache_read': 0}, 'output_token_details': {'audio': 0, 'reasoning': 0}}),\n",
       "  ToolMessage(content=\"When this issue is amended in The Blue Book 2017 it will reduce the level of GFCF across the period by around 1.1% per year. The average impact on quarter-on-quarter GFCF growth is negative 0.02% and the average impact on quarter-on-quarter GDP growth is 0.00%. Related time series. ... Gross Domestic Product team gdp@ons.gov.uk Telephone : +44 ... UK ends 2023 in recession Although GDP did grow over the whole of year, the UK finished 2023 in a technical recession due to two quarters of negative growth at the end of the year. In Q3 2023, the ... Interest Rates: Long-Term Government Bond Yields: 10-Year: Main (Including Benchmark) for United Kingdom. Household Debt to GDP for United States. Other Formats. Current U.S. Dollars, Annual, Not Seasonally Adjusted. Related Categories. GDP National Accounts Indicators United Kingdom Countries International Data. The United Kingdom's economy grew by 0.9 percent in 2024, after a growth rate of 0.4 percent in 2023, 4.8 percent in 2022, 8.6 percent in 2021, and a record 10.3 percent fall in 2020. This is an alphabetical list of countries by past and projected gross domestic product (nominal) as ranked by the IMF. Figures are based on official exchange rates, not on the purchasing power parity (PPP) methodology. Values are given in millions of United States dollars (USD) and have not been adjusted for inflation. These figures have been taken from the International Monetary Fund's World ...\", name='duckduckgo_search', id='a9a157ed-500a-408e-b4f0-116e0be98e2e', tool_call_id='call_4Ju8sqNadf8dqLLQq7U6cVgS'),\n",
       "  HumanMessage(content=\"Based on my research, the GDP growth rate of the UK over the past three years is as follows: \\n\\n- In 2024, it was 0.9% \\n- In 2023, it was 0.4% \\n- In 2022, it was 4.8% \\n\\nI'm passing this data to my colleague who will generate a line chart representing this information. \\n\\nNote: Due to my current capabilities, I can only acquire the growth rate of GDP, not the absolute GDP value. The growth rate can still give us a sense of the trend over these three years.\", additional_kwargs={}, response_metadata={}, name='researcher', id='413bac9c-37d8-4767-8274-38cc2a08d517'),\n",
       "  AIMessage(content='', additional_kwargs={'tool_calls': [{'id': 'call_czXoOgxuoiDtHrBugBTp3NJQ', 'function': {'arguments': '{\\n  \"code\": \"import matplotlib.pyplot as plt\\\\n\\\\nyears = [\\'2022\\', \\'2023\\', \\'2024\\']\\\\ngdp_growth_rates = [4.8, 0.4, 0.9]\\\\n\\\\nplt.plot(years, gdp_growth_rates, marker=\\'o\\')\\\\n\\\\nplt.title(\\'UK GDP Growth Rate Over The Past 3 Years\\')\\\\nplt.xlabel(\\'Year\\')\\\\nplt.ylabel(\\'GDP Growth Rate (%)\\')\\\\n\\\\nplt.show()\"\\n}', 'name': 'python_repl_tool'}, 'type': 'function'}], 'refusal': None}, response_metadata={'token_usage': {'completion_tokens': 115, 'prompt_tokens': 722, 'total_tokens': 837, 'completion_tokens_details': {'accepted_prediction_tokens': 0, 'audio_tokens': 0, 'reasoning_tokens': 0, 'rejected_prediction_tokens': 0}, 'prompt_tokens_details': {'audio_tokens': 0, 'cached_tokens': 0}}, 'model_name': 'gpt-4-0613', 'system_fingerprint': None, 'id': 'chatcmpl-BDWtLs2jN5MCkS1jDb9oul8Nc7yZm', 'finish_reason': 'tool_calls', 'logprobs': None}, id='run-27e979b0-0219-4e2d-93e0-2e85e1aca84f-0', tool_calls=[{'name': 'python_repl_tool', 'args': {'code': \"import matplotlib.pyplot as plt\\n\\nyears = ['2022', '2023', '2024']\\ngdp_growth_rates = [4.8, 0.4, 0.9]\\n\\nplt.plot(years, gdp_growth_rates, marker='o')\\n\\nplt.title('UK GDP Growth Rate Over The Past 3 Years')\\nplt.xlabel('Year')\\nplt.ylabel('GDP Growth Rate (%)')\\n\\nplt.show()\"}, 'id': 'call_czXoOgxuoiDtHrBugBTp3NJQ', 'type': 'tool_call'}], usage_metadata={'input_tokens': 722, 'output_tokens': 115, 'total_tokens': 837, 'input_token_details': {'audio': 0, 'cache_read': 0}, 'output_token_details': {'audio': 0, 'reasoning': 0}}),\n",
       "  ToolMessage(content=\"Successfully executed:\\n\\\\`\\\\`\\\\`python\\nimport matplotlib.pyplot as plt\\n\\nyears = ['2022', '2023', '2024']\\ngdp_growth_rates = [4.8, 0.4, 0.9]\\n\\nplt.plot(years, gdp_growth_rates, marker='o')\\n\\nplt.title('UK GDP Growth Rate Over The Past 3 Years')\\nplt.xlabel('Year')\\nplt.ylabel('GDP Growth Rate (%)')\\n\\nplt.show()\\n\\\\`\\\\`\\\\`\\nStdout: \\n\\nIf you have completed all tasks, respond with FINAL ANSWER.\", name='python_repl_tool', id='ab512cad-7847-4c69-b9e8-4f1295f42cc3', tool_call_id='call_czXoOgxuoiDtHrBugBTp3NJQ'),\n",
       "  HumanMessage(content=\"FINAL ANSWER\\n\\nHere is the line chart representing the UK's GDP growth rate over the past 3 years. \\n\\n![UK's GDP Growth Rate Over The Past 3 Years](data:image/png;base64,iVBORw0KGg...)[alt text](image_url) \\n\\nPlease note that the values on the y-axis represent the GDP growth rate in percentage and not the absolute GDP.\\n\\n- In 2022, the GDP growth rate was 4.8%.\\n- In 2023, it dropped to 0.4%.\\n- In 2024, it slightly increased to 0.9%.\\n\\nThe trend shows a significant drop in GDP growth rate from 2022 to 2023, followed by a small recovery in 2024.\", additional_kwargs={}, response_metadata={}, name='chart_generator', id='982e5870-112b-4807-9514-5a69d314909c')]}"
      ]
     },
     "execution_count": 35,
     "metadata": {},
     "output_type": "execute_result"
    }
   ],
   "source": [
    "app.invoke({\"messages\": [(\"user\",\"get the UK's GDP over the past 3 years, then make a line chart of it.Once you make the chart, finish.\")],})"
   ]
  },
  {
   "cell_type": "code",
   "execution_count": null,
   "metadata": {},
   "outputs": [],
   "source": []
  }
 ],
 "metadata": {
  "kernelspec": {
   "display_name": "Python 3",
   "language": "python",
   "name": "python3"
  },
  "language_info": {
   "codemirror_mode": {
    "name": "ipython",
    "version": 3
   },
   "file_extension": ".py",
   "mimetype": "text/x-python",
   "name": "python",
   "nbconvert_exporter": "python",
   "pygments_lexer": "ipython3",
   "version": "3.10.16"
  }
 },
 "nbformat": 4,
 "nbformat_minor": 2
}
