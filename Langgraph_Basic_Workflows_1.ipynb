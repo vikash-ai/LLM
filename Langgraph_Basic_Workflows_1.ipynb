{
 "cells": [
  {
   "cell_type": "markdown",
   "id": "c307efed",
   "metadata": {},
   "source": [
    "Lets first create the basic workflow"
   ]
  },
  {
   "cell_type": "code",
   "execution_count": 23,
   "id": "c951115f",
   "metadata": {},
   "outputs": [],
   "source": [
    "#Import the langgraph library first\n",
    "from langgraph.graph import Graph"
   ]
  },
  {
   "cell_type": "code",
   "execution_count": 24,
   "id": "b265e837",
   "metadata": {},
   "outputs": [],
   "source": [
    "import os\n",
    "from dotenv import load_dotenv\n",
    "load_dotenv()\n",
    "GOOGLE_API_KEY=os.getenv(\"GOOGLE_API_KEY\")\n",
    "os.environ[\"GOOGLE_API_KEY\"] = GOOGLE_API_KEY"
   ]
  },
  {
   "cell_type": "code",
   "execution_count": 25,
   "id": "379e81a3",
   "metadata": {},
   "outputs": [],
   "source": [
    "#initiate it\n",
    "workflow=Graph()"
   ]
  },
  {
   "cell_type": "code",
   "execution_count": 26,
   "id": "358d1337",
   "metadata": {},
   "outputs": [
    {
     "data": {
      "text/plain": [
       "<langgraph.graph.graph.Graph at 0x1af2d34ba90>"
      ]
     },
     "execution_count": 26,
     "metadata": {},
     "output_type": "execute_result"
    }
   ],
   "source": [
    "#Add a decision function as Node\n",
    "def function1(input1):\n",
    "    return input1 + \"from first function\"\n",
    "workflow.add_node(\"firstnode\", function1)"
   ]
  },
  {
   "cell_type": "code",
   "execution_count": 27,
   "id": "e5161251",
   "metadata": {},
   "outputs": [
    {
     "data": {
      "text/plain": [
       "<langgraph.graph.graph.Graph at 0x1af2d34ba90>"
      ]
     },
     "execution_count": 27,
     "metadata": {},
     "output_type": "execute_result"
    }
   ],
   "source": [
    "#Add a another node\n",
    "def function2(input2):\n",
    "    return input2 + \" \" + \"and input from second function\"\n",
    "workflow.add_node(\"node2\",function2)"
   ]
  },
  {
   "cell_type": "code",
   "execution_count": 28,
   "id": "3a765b0e",
   "metadata": {},
   "outputs": [
    {
     "data": {
      "text/plain": [
       "<langgraph.graph.graph.Graph at 0x1af2d34ba90>"
      ]
     },
     "execution_count": 28,
     "metadata": {},
     "output_type": "execute_result"
    }
   ],
   "source": [
    "#Add connection between node1 and node2\n",
    "workflow.add_edge(\"firstnode\",\"node2\")"
   ]
  },
  {
   "cell_type": "code",
   "execution_count": 29,
   "id": "6873cf49",
   "metadata": {},
   "outputs": [
    {
     "data": {
      "text/plain": [
       "<langgraph.graph.graph.Graph at 0x1af2d34ba90>"
      ]
     },
     "execution_count": 29,
     "metadata": {},
     "output_type": "execute_result"
    }
   ],
   "source": [
    "workflow.set_entry_point(\"firstnode\")\n",
    "workflow.set_finish_point(\"node2\")"
   ]
  },
  {
   "cell_type": "code",
   "execution_count": 30,
   "id": "a2a00c82",
   "metadata": {},
   "outputs": [],
   "source": [
    "#compile the graph\n",
    "app=workflow.compile()"
   ]
  },
  {
   "cell_type": "code",
   "execution_count": 31,
   "id": "b22dc80b",
   "metadata": {},
   "outputs": [
    {
     "data": {
      "image/png": "[encoded data removed]",
      "text/plain": [
       "<IPython.core.display.Image object>"
      ]
     },
     "metadata": {},
     "output_type": "display_data"
    }
   ],
   "source": [
    "#Display the workflow now\n",
    "from IPython.display import Image, display\n",
    "\n",
    "try:\n",
    "    display(Image(app.get_graph().draw_mermaid_png()))\n",
    "except Exception as e:\n",
    "    # This requires some extra dependencies and is optional\n",
    "    print(e)"
   ]
  },
  {
   "cell_type": "code",
   "execution_count": 32,
   "id": "ffd89b34",
   "metadata": {},
   "outputs": [
    {
     "data": {
      "text/plain": [
       "'this is first simple GRAPH example from first function and input from second function'"
      ]
     },
     "execution_count": 32,
     "metadata": {},
     "output_type": "execute_result"
    }
   ],
   "source": [
    "app.invoke(\"this is first simple GRAPH example \")"
   ]
  },
  {
   "cell_type": "markdown",
   "id": "a913b769",
   "metadata": {},
   "source": [
    "create workflow with llm"
   ]
  },
  {
   "cell_type": "code",
   "execution_count": 33,
   "id": "a39cbc98",
   "metadata": {},
   "outputs": [
    {
     "data": {
      "text/plain": [
       "'Hi there! How can I help you today?'"
      ]
     },
     "execution_count": 33,
     "metadata": {},
     "output_type": "execute_result"
    }
   ],
   "source": [
    "from langchain_google_genai import GoogleGenerativeAIEmbeddings\n",
    "embeddings = GoogleGenerativeAIEmbeddings(model=\"models/embedding-001\")\n",
    "from langchain_google_genai import ChatGoogleGenerativeAI\n",
    "llm = ChatGoogleGenerativeAI(model=\"gemini-1.5-pro\")\n",
    "llm.invoke(\"hi\").content\n"
   ]
  },
  {
   "cell_type": "code",
   "execution_count": 34,
   "id": "74885e9b",
   "metadata": {},
   "outputs": [],
   "source": [
    "#define the input function\n",
    "def function1(input):\n",
    "    llm = ChatGoogleGenerativeAI(model=\"gemini-1.5-pro\")\n",
    "    response=llm.invoke(input).content\n",
    "    return response"
   ]
  },
  {
   "cell_type": "code",
   "execution_count": 35,
   "id": "19ac0adf",
   "metadata": {},
   "outputs": [],
   "source": [
    "#add a task like convert output in Upper case\n",
    "def function2(input):\n",
    "    upper_case=input.upper()\n",
    "    return upper_case"
   ]
  },
  {
   "cell_type": "code",
   "execution_count": 36,
   "id": "e8695b1d",
   "metadata": {},
   "outputs": [
    {
     "data": {
      "text/plain": [
       "<langgraph.graph.graph.Graph at 0x1af2d349f00>"
      ]
     },
     "execution_count": 36,
     "metadata": {},
     "output_type": "execute_result"
    }
   ],
   "source": [
    "workflow2=Graph()\n",
    "workflow2.add_node(\"llm\",function1)\n",
    "workflow2.add_node(\"upper_string\",function2)\n",
    "workflow2.add_edge(\"llm\",\"upper_string\")\n",
    "workflow2.set_entry_point(\"llm\")\n",
    "workflow2.set_finish_point(\"upper_string\")"
   ]
  },
  {
   "cell_type": "code",
   "execution_count": 37,
   "id": "e7e12782",
   "metadata": {},
   "outputs": [],
   "source": [
    "app2=workflow2.compile()"
   ]
  },
  {
   "cell_type": "code",
   "execution_count": 38,
   "id": "68f0172d",
   "metadata": {},
   "outputs": [
    {
     "data": {
      "image/png": "[encoded data removed]",
      "text/plain": [
       "<IPython.core.display.Image object>"
      ]
     },
     "metadata": {},
     "output_type": "display_data"
    }
   ],
   "source": [
    "from IPython.display import Image, display\n",
    "\n",
    "try:\n",
    "    display(Image(app2.get_graph().draw_mermaid_png()))\n",
    "except Exception as e:\n",
    "    # This requires some extra dependencies and is optional\n",
    "    print(e)"
   ]
  },
  {
   "cell_type": "code",
   "execution_count": 39,
   "id": "031d639d",
   "metadata": {},
   "outputs": [
    {
     "name": "stdout",
     "output_type": "stream",
     "text": [
      "\"GENAI\" IS SHORTHAND FOR **GENERATIVE ARTIFICIAL INTELLIGENCE**.  IT'S A CATEGORY OF ARTIFICIAL INTELLIGENCE ALGORITHMS THAT ARE FOCUSED ON CREATING NEW, ORIGINAL CONTENT.  THIS CONTENT CAN SPAN A WIDE RANGE OF FORMATS, INCLUDING:\n",
      "\n",
      "* **TEXT:**  POEMS, CODE, SCRIPTS, MUSICAL PIECES, EMAIL, LETTERS, ETC.\n",
      "* **IMAGES:**  PHOTOS, DIGITAL ART, SKETCHES, LOGOS, ETC.\n",
      "* **AUDIO:**  MUSIC, VOICEOVERS, SOUND EFFECTS, ETC.\n",
      "* **VIDEO:**  SHORT FILMS, ANIMATIONS, ETC.\n",
      "* **3D MODELS:**  OBJECTS, ENVIRONMENTS, CHARACTERS, ETC.\n",
      "* **OTHER DATA:**  SUCH AS SIMULATIONS, DESIGNS, OR EVEN DRUG MOLECULES.\n",
      "\n",
      "\n",
      "**HOW GENAI WORKS:**\n",
      "\n",
      "AT THE HEART OF MOST GENAI SYSTEMS ARE COMPLEX ALGORITHMS, OFTEN BASED ON **NEURAL NETWORKS**, PARTICULARLY A TYPE CALLED **DEEP LEARNING MODELS**. THESE MODELS ARE TRAINED ON MASSIVE DATASETS OF EXISTING CONTENT. THROUGH THIS TRAINING, THE MODEL LEARNS THE UNDERLYING PATTERNS, STRUCTURES, AND STYLES PRESENT IN THE DATA.  ONCE TRAINED, IT CAN THEN GENERATE NEW CONTENT THAT REFLECTS THESE LEARNED PATTERNS.\n",
      "\n",
      "HERE ARE SOME KEY CONCEPTS RELATED TO HOW GENAI WORKS:\n",
      "\n",
      "* **TRAINING DATA:** THE FOUNDATION OF ANY GENAI MODEL.  THE QUALITY, DIVERSITY, AND SIZE OF THIS DATASET SIGNIFICANTLY INFLUENCE THE MODEL'S CAPABILITIES AND THE QUALITY OF THE GENERATED CONTENT.\n",
      "* **NEURAL NETWORKS:** COMPLEX INTERCONNECTED NETWORKS OF \"NEURONS\" ORGANIZED IN LAYERS. THESE NETWORKS LEARN BY ADJUSTING THE CONNECTIONS BETWEEN NEURONS BASED ON THE TRAINING DATA.\n",
      "* **DEEP LEARNING:** A SUBFIELD OF MACHINE LEARNING THAT USES DEEP NEURAL NETWORKS WITH MANY LAYERS. THIS ALLOWS THE MODEL TO LEARN COMPLEX PATTERNS AND REPRESENTATIONS.\n",
      "* **GENERATIVE ADVERSARIAL NETWORKS (GANS):**  A SPECIFIC TYPE OF NEURAL NETWORK ARCHITECTURE WHERE TWO NETWORKS, A GENERATOR AND A DISCRIMINATOR, WORK IN TANDEM. THE GENERATOR CREATES CONTENT, AND THE DISCRIMINATOR TRIES TO DISTINGUISH BETWEEN REAL AND GENERATED CONTENT.  THIS ADVERSARIAL PROCESS PUSHES BOTH NETWORKS TO IMPROVE, LEADING TO MORE REALISTIC GENERATED OUTPUT.\n",
      "* **VARIATIONAL AUTOENCODERS (VAES):** ANOTHER TYPE OF NEURAL NETWORK ARCHITECTURE USED FOR GENERATIVE TASKS. VAES LEARN A COMPRESSED REPRESENTATION OF THE INPUT DATA AND CAN THEN GENERATE NEW DATA BY SAMPLING FROM THIS COMPRESSED REPRESENTATION.\n",
      "* **TRANSFORMER MODELS:**  A POWERFUL TYPE OF NEURAL NETWORK ARCHITECTURE, ESPECIALLY EFFECTIVE FOR TEXT-BASED TASKS.  TRANSFORMERS USE A MECHANISM CALLED \"ATTENTION\" TO WEIGH THE IMPORTANCE OF DIFFERENT PARTS OF THE INPUT SEQUENCE, ALLOWING THEM TO CAPTURE LONG-RANGE DEPENDENCIES IN TEXT.  LARGE LANGUAGE MODELS (LLMS) LIKE GPT-3 AND OTHERS ARE BASED ON TRANSFORMER ARCHITECTURES.\n",
      "* **DIFFUSION MODELS:** A NEWER CLASS OF GENERATIVE MODELS THAT GRADUALLY ADD NOISE TO AN IMAGE AND THEN LEARN TO REVERSE THIS PROCESS TO GENERATE NEW IMAGES FROM RANDOM NOISE.  THEY ARE KNOWN FOR PRODUCING HIGH-QUALITY IMAGES.\n",
      "\n",
      "\n",
      "\n",
      "**KEY APPLICATIONS OF GENAI:**\n",
      "\n",
      "GENAI IS RAPIDLY TRANSFORMING VARIOUS INDUSTRIES AND HAS A WIDE RANGE OF POTENTIAL APPLICATIONS:\n",
      "\n",
      "* **CREATIVE CONTENT GENERATION:** WRITING STORIES, COMPOSING MUSIC, CREATING DIGITAL ART, DESIGNING LOGOS, AND GENERATING MARKETING COPY.\n",
      "* **CODE GENERATION:** AUTOMATING CODING TASKS, SUGGESTING CODE COMPLETIONS, AND TRANSLATING BETWEEN PROGRAMMING LANGUAGES.\n",
      "* **DRUG DISCOVERY AND DEVELOPMENT:** DESIGNING NEW DRUG MOLECULES AND PREDICTING THEIR PROPERTIES.\n",
      "* **MATERIAL SCIENCE:** DISCOVERING NEW MATERIALS WITH SPECIFIC PROPERTIES.\n",
      "* **PERSONALIZED EXPERIENCES:** CREATING CUSTOMIZED RECOMMENDATIONS, TARGETED ADVERTISING, AND PERSONALIZED LEARNING EXPERIENCES.\n",
      "* **IMAGE AND VIDEO EDITING:** ENHANCING IMAGES, RESTORING OLD PHOTOS, AND GENERATING REALISTIC SPECIAL EFFECTS.\n",
      "* **SIMULATION AND MODELING:** CREATING REALISTIC SIMULATIONS FOR TRAINING, RESEARCH, AND ENTERTAINMENT.\n",
      "\n",
      "\n",
      "**CHALLENGES AND ETHICAL CONSIDERATIONS:**\n",
      "\n",
      "WHILE GENAI OFFERS TREMENDOUS POTENTIAL, IT ALSO PRESENTS SEVERAL CHALLENGES AND ETHICAL CONCERNS:\n",
      "\n",
      "* **BIAS:** GENAI MODELS CAN INHERIT AND AMPLIFY BIASES PRESENT IN THE TRAINING DATA, LEADING TO UNFAIR OR DISCRIMINATORY OUTCOMES.\n",
      "* **MISINFORMATION AND DEEPFAKES:**  GENAI CAN BE USED TO CREATE CONVINCING FAKE CONTENT, INCLUDING DEEPFAKES, WHICH CAN BE USED FOR MALICIOUS PURPOSES.\n",
      "* **JOB DISPLACEMENT:**  AUTOMATION THROUGH GENAI COULD POTENTIALLY LEAD TO JOB DISPLACEMENT IN CERTAIN SECTORS.\n",
      "* **COPYRIGHT AND INTELLECTUAL PROPERTY:**  QUESTIONS AROUND OWNERSHIP AND COPYRIGHT OF CONTENT GENERATED BY AI ARE STILL BEING DEBATED.\n",
      "* **ENVIRONMENTAL IMPACT:** TRAINING LARGE GENAI MODELS REQUIRES SIGNIFICANT COMPUTATIONAL RESOURCES AND ENERGY, RAISING CONCERNS ABOUT THEIR ENVIRONMENTAL FOOTPRINT.\n",
      "\n",
      "\n",
      "ADDRESSING THESE CHALLENGES AND ESTABLISHING ETHICAL GUIDELINES FOR THE DEVELOPMENT AND DEPLOYMENT OF GENAI IS CRUCIAL TO ENSURE ITS RESPONSIBLE AND BENEFICIAL USE.\n"
     ]
    }
   ],
   "source": [
    "print(app2.invoke(\"what is genai explain in detail?\"))"
   ]
  },
  {
   "cell_type": "code",
   "execution_count": 40,
   "id": "87f6a8a5",
   "metadata": {},
   "outputs": [],
   "source": [
    "#let's understand how the graph is working step by step\n",
    "input=\"what is full form of rag in genai?\""
   ]
  },
  {
   "cell_type": "code",
   "execution_count": 41,
   "id": "f9a50713",
   "metadata": {},
   "outputs": [
    {
     "name": "stdout",
     "output_type": "stream",
     "text": [
      "here is output from llm\n",
      "_______\n",
      "In the context of generative AI, RAG stands for **Retrieval Augmented Generation**.\n",
      "\n",
      "\n",
      "here is output from upper_string\n",
      "_______\n",
      "IN THE CONTEXT OF GENERATIVE AI, RAG STANDS FOR **RETRIEVAL AUGMENTED GENERATION**.\n",
      "\n",
      "\n"
     ]
    }
   ],
   "source": [
    "for output in app2.stream(input):\n",
    "    for key,value in output.items():\n",
    "        print(f\"here is output from {key}\")\n",
    "        print(\"_______\")\n",
    "        print(value)\n",
    "        print(\"\\n\")"
   ]
  },
  {
   "cell_type": "code",
   "execution_count": 42,
   "id": "b291ee78",
   "metadata": {},
   "outputs": [],
   "source": [
    "# Print the API key to verify it is loaded correctly\n",
    "#print(f\"TAVILY_API_KEY: {os.getenv('TAVILY_API_KEY')}\")"
   ]
  },
  {
   "cell_type": "code",
   "execution_count": 43,
   "id": "a8a1b8f8",
   "metadata": {},
   "outputs": [
    {
     "data": {
      "text/plain": [
       "[{'title': 'LangGraph Glossary - GitHub Pages',\n",
       "  'url': 'https://langchain-ai.github.io/langgraph/concepts/low_level/',\n",
       "  'content': 'In LangGraph, nodes are typically python functions (sync or async) where the first positional argument is the state, and (optionally), the second positional argument is a \"config\", containing optional configurable parameters (such as a thread_id).\\nSimilar to NetworkX, you add these nodes to a graph using the add_node method:\\n[](https://langchain-ai.github.io/langgraph/concepts/low_level/#__codelineno-7-1)fromlangchain_core.runnablesimport RunnableConfig [...] LangGraph Glossary¶\\nGraphs¶\\nAt its core, LangGraph models agent workflows as graphs. You define the behavior of your agents using three key components:\\n\\n\\nState: A shared data structure that represents the current snapshot of your application. It can be any Python type, but is typically a TypedDict or Pydantic BaseModel.\\n\\n\\nNodes: Python functions that encode the logic of your agents. They receive the current State as input, perform some computation or side-effect, and return an updated State. [...] By composing Nodes and Edges, you can create complex, looping workflows that evolve the State over time. The real power, though, comes from how LangGraph manages that State. To emphasize: Nodes and Edges are nothing more than Python functions - they can contain an LLM or just good ol\\' Python code.\\nIn short: nodes do the work. edges tell what to do next.',\n",
       "  'score': 0.8995547},\n",
       " {'title': 'A Comprehensive Guide About Langgraph: Code Included - Ionio',\n",
       "  'url': 'https://www.ionio.ai/blog/a-comprehensive-guide-about-langgraph-code-included',\n",
       "  'content': 'Now let’s take a look at each component of langgraph in detail 🚀\\nNodes\\nA node can be any function or tool your agent uses in langgraph and these nodes are connected with other nodes using edges. Every workflow ends with a “END” node in langgraph which shows the end of workflow. You also need to define a starting node which will be the starting point of your workflow. Optionally, you can also define an ending node if you know the ending point of your workflow.',\n",
       "  'score': 0.8991304}]"
      ]
     },
     "execution_count": 43,
     "metadata": {},
     "output_type": "execute_result"
    }
   ],
   "source": [
    "#Till now its working fine as expected. Let's add a serch capability now\n",
    "#Generate your key for Tavily at https://tavily.com/\n",
    "from langchain_community.tools.tavily_search import TavilySearchResults\n",
    "\n",
    "tool = TavilySearchResults(max_results=2)\n",
    "tools = [tool]\n",
    "tool.invoke(\"What's a 'node' in LangGraph?\")"
   ]
  },
  {
   "cell_type": "markdown",
   "id": "e68614ce",
   "metadata": {},
   "source": [
    "Look how great its working, serching web for relevant answer with high confidence score\n",
    "In next part , we will add RAG capibilty in our workflow"
   ]
  }
 ],
 "metadata": {
  "kernelspec": {
   "display_name": "Python 3",
   "language": "python",
   "name": "python3"
  },
  "language_info": {
   "codemirror_mode": {
    "name": "ipython",
    "version": 3
   },
   "file_extension": ".py",
   "mimetype": "text/x-python",
   "name": "python",
   "nbconvert_exporter": "python",
   "pygments_lexer": "ipython3",
   "version": "3.10.17"
  }
 },
 "nbformat": 4,
 "nbformat_minor": 5
}
